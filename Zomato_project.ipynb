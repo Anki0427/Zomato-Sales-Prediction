{
 "cells": [
  {
   "cell_type": "raw",
   "id": "098c5faf-affc-448c-b8bb-2b2b2c7e6dc7",
   "metadata": {},
   "source": [
    " # Zomato data analysis project"
   ]
  },
  {
   "cell_type": "markdown",
   "id": "6a95f490-079d-406b-9adb-26d36a9f9562",
   "metadata": {},
   "source": [
    "Step-1 Importing Libraries"
   ]
  },
  {
   "cell_type": "markdown",
   "id": "c4731552-a517-496f-a5f6-6bd702e9b4d8",
   "metadata": {},
   "source": [
    "# pandas is used for data manipulation and analysis\n",
    "# numpy is used for numerical operations.\n",
    "# matplotlib.pyplot and seaborn are used for data visualization"
   ]
  },
  {
   "cell_type": "code",
   "execution_count": 472,
   "id": "b51e0868-c446-40d8-8399-f93a99126c08",
   "metadata": {},
   "outputs": [],
   "source": [
    "import pandas as pd\n",
    "import numpy as np\n",
    "import matplotlib.pyplot as plt\n",
    "import seaborn as sns"
   ]
  },
  {
   "cell_type": "markdown",
   "id": "079eaffe-0bdd-4982-948b-284bfedd3bb7",
   "metadata": {},
   "source": [
    " Step 2- Create the data frame"
   ]
  },
  {
   "cell_type": "code",
   "execution_count": 474,
   "id": "cf921d02-7987-40ed-a134-1fdaa1351607",
   "metadata": {},
   "outputs": [
    {
     "name": "stdout",
     "output_type": "stream",
     "text": [
      "                      name online_order book_table   rate  votes  \\\n",
      "0                    Jalsa          Yes        Yes  4.1/5    775   \n",
      "1           Spice Elephant          Yes         No  4.1/5    787   \n",
      "2          San Churro Cafe          Yes         No  3.8/5    918   \n",
      "3    Addhuri Udupi Bhojana           No         No  3.7/5     88   \n",
      "4            Grand Village           No         No  3.8/5    166   \n",
      "..                     ...          ...        ...    ...    ...   \n",
      "143       Melting Melodies           No         No  3.3/5      0   \n",
      "144        New Indraprasta           No         No  3.3/5      0   \n",
      "145           Anna Kuteera          Yes         No  4.0/5    771   \n",
      "146                 Darbar           No         No  3.0/5     98   \n",
      "147          Vijayalakshmi          Yes         No  3.9/5     47   \n",
      "\n",
      "     approx_cost(for two people) listed_in(type)  \n",
      "0                            800          Buffet  \n",
      "1                            800          Buffet  \n",
      "2                            800          Buffet  \n",
      "3                            300          Buffet  \n",
      "4                            600          Buffet  \n",
      "..                           ...             ...  \n",
      "143                          100          Dining  \n",
      "144                          150          Dining  \n",
      "145                          450          Dining  \n",
      "146                          800          Dining  \n",
      "147                          200          Dining  \n",
      "\n",
      "[148 rows x 7 columns]\n"
     ]
    }
   ],
   "source": [
    "dataframe = pd.read_csv(\"Zomato data .csv\")\n",
    "print (dataframe)"
   ]
  },
  {
   "cell_type": "code",
   "execution_count": 475,
   "id": "3e2e8b0f-7c9a-4bdd-bfee-69b5ece5b3d1",
   "metadata": {},
   "outputs": [],
   "source": [
    "# We need to check Data Consistency\n",
    "# Data cleaning\n"
   ]
  },
  {
   "cell_type": "code",
   "execution_count": 476,
   "id": "223b9a9d-7f12-4fb6-8de7-d16fdd43f41d",
   "metadata": {},
   "outputs": [],
   "source": [
    "# We need to check Data Consistency\n",
    "# Data cleaning\n"
   ]
  },
  {
   "cell_type": "code",
   "execution_count": 477,
   "id": "c946af90-86d0-42d5-af52-2e6732ed1ebf",
   "metadata": {},
   "outputs": [
    {
     "name": "stdout",
     "output_type": "stream",
     "text": [
      "                    name online_order book_table  rate  votes  \\\n",
      "0                  Jalsa          Yes        Yes   4.1    775   \n",
      "1         Spice Elephant          Yes         No   4.1    787   \n",
      "2        San Churro Cafe          Yes         No   3.8    918   \n",
      "3  Addhuri Udupi Bhojana           No         No   3.7     88   \n",
      "4          Grand Village           No         No   3.8    166   \n",
      "\n",
      "   approx_cost(for two people) listed_in(type)  \n",
      "0                          800          Buffet  \n",
      "1                          800          Buffet  \n",
      "2                          800          Buffet  \n",
      "3                          300          Buffet  \n",
      "4                          600          Buffet  \n"
     ]
    }
   ],
   "source": [
    "def handleRate(value):\n",
    "    value= str(value).split('/')\n",
    "    value= value[0];\n",
    "    return float (value)\n",
    "\n",
    "dataframe['rate']=dataframe['rate'].apply(handleRate)\n",
    "print (dataframe.head())\n",
    "    \n"
   ]
  },
  {
   "cell_type": "markdown",
   "id": "450d28dc-d5bb-4829-8ebd-3b014e161a9f",
   "metadata": {},
   "source": [
    "# Need to check if anything is NULL"
   ]
  },
  {
   "cell_type": "code",
   "execution_count": 479,
   "id": "6628dc55-29cd-43ca-bba7-c5c5a4a2bd66",
   "metadata": {},
   "outputs": [
    {
     "name": "stdout",
     "output_type": "stream",
     "text": [
      "<class 'pandas.core.frame.DataFrame'>\n",
      "RangeIndex: 148 entries, 0 to 147\n",
      "Data columns (total 7 columns):\n",
      " #   Column                       Non-Null Count  Dtype  \n",
      "---  ------                       --------------  -----  \n",
      " 0   name                         148 non-null    object \n",
      " 1   online_order                 148 non-null    object \n",
      " 2   book_table                   148 non-null    object \n",
      " 3   rate                         148 non-null    float64\n",
      " 4   votes                        148 non-null    int64  \n",
      " 5   approx_cost(for two people)  148 non-null    int64  \n",
      " 6   listed_in(type)              148 non-null    object \n",
      "dtypes: float64(1), int64(2), object(4)\n",
      "memory usage: 8.2+ KB\n"
     ]
    }
   ],
   "source": [
    "dataframe.info()"
   ]
  },
  {
   "cell_type": "markdown",
   "id": "55ec124b-17dc-4b5a-9436-71eb8a557f45",
   "metadata": {},
   "source": [
    "# 1.What type of resturant do the majority of customers order from?"
   ]
  },
  {
   "cell_type": "code",
   "execution_count": 481,
   "id": "d13f180d-43f9-4d01-a1a2-63b49857c17f",
   "metadata": {},
   "outputs": [
    {
     "data": {
      "text/plain": [
       "Text(0.5, 0, 'type of resturant')"
      ]
     },
     "execution_count": 481,
     "metadata": {},
     "output_type": "execute_result"
    },
    {
     "data": {
      "image/png": "[encoded data removed]",
      "text/plain": [
       "<Figure size 640x480 with 1 Axes>"
      ]
     },
     "metadata": {},
     "output_type": "display_data"
    }
   ],
   "source": [
    "sns.countplot(x=dataframe['listed_in(type)'])\n",
    "plt.xlabel(\"type of resturant\")"
   ]
  },
  {
   "cell_type": "code",
   "execution_count": 482,
   "id": "b035a107-37d6-494d-bfa2-fd94a73fb466",
   "metadata": {},
   "outputs": [],
   "source": [
    "# Conclusion "
   ]
  },
  {
   "cell_type": "markdown",
   "id": "30180fbe-6f4e-4932-8048-7f8e42bcd1d8",
   "metadata": {},
   "source": [
    " # 2.How many has each type of resturant received from customers"
   ]
  },
  {
   "cell_type": "code",
   "execution_count": 484,
   "id": "74afba50-9263-4679-b5ce-cd54895bceb0",
   "metadata": {},
   "outputs": [
    {
     "data": {
      "text/plain": [
       "Text(0, 0.5, 'votes')"
      ]
     },
     "execution_count": 484,
     "metadata": {},
     "output_type": "execute_result"
    },
    {
     "data": {
      "image/png": "[encoded data removed]",
      "text/plain": [
       "<Figure size 640x480 with 1 Axes>"
      ]
     },
     "metadata": {},
     "output_type": "display_data"
    }
   ],
   "source": [
    "grouped_data=dataframe.groupby('listed_in(type)')['votes'].sum()\n",
    "result = pd.DataFrame({'votes': grouped_data})\n",
    "plt.plot(result, c=\"green\" ,marker=\"o\")\n",
    "plt.xlabel(\"Type of resturant\", c=\"red\" ,size=20)\n",
    "plt.ylabel(\"votes\" ,c=\"red\" ,size=20)\n"
   ]
  },
  {
   "cell_type": "code",
   "execution_count": 485,
   "id": "170d8a9c-cc57-4770-9aa0-7aa814a4b4b8",
   "metadata": {},
   "outputs": [
    {
     "data": {
      "text/plain": [
       "3.0"
      ]
     },
     "execution_count": 485,
     "metadata": {},
     "output_type": "execute_result"
    }
   ],
   "source": [
    "3."
   ]
  }
 ],
 "metadata": {
  "kernelspec": {
   "display_name": "Python 3 (ipykernel)",
   "language": "python",
   "name": "python3"
  },
  "language_info": {
   "codemirror_mode": {
    "name": "ipython",
    "version": 3
   },
   "file_extension": ".py",
   "mimetype": "text/x-python",
   "name": "python",
   "nbconvert_exporter": "python",
   "pygments_lexer": "ipython3",
   "version": "3.12.4"
  }
 },
 "nbformat": 4,
 "nbformat_minor": 5
}
